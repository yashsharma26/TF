{
  "cells": [
    {
      "cell_type": "markdown",
      "metadata": {
        "id": "uDnsGjKidRQp"
      },
      "source": [
        "### Importing Necessary Libraries\n",
        "\n"
      ]
    },
    {
      "cell_type": "code",
      "execution_count": 47,
      "metadata": {
        "id": "WPuiBRl7aHiC",
        "trusted": true
      },
      "outputs": [],
      "source": [
        "import spacy\n",
        "from spacy import displacy\n",
        "import pandas as pd\n",
        "from sklearn.model_selection import train_test_split\n",
        "from sklearn.pipeline import Pipeline\n",
        "from sklearn.feature_extraction.text import TfidfVectorizer\n",
        "from sklearn.metrics import confusion_matrix, classification_report, accuracy_score\n",
        "from sklearn.svm import LinearSVC\n",
        "import string"
      ]
    },
    {
      "cell_type": "markdown",
      "metadata": {
        "id": "JCoxJqWlbzqq"
      },
      "source": [
        "## Loading SpaCy's small english model"
      ]
    },
    {
      "cell_type": "code",
      "execution_count": 48,
      "metadata": {
        "id": "nujppuMjbTOB",
        "trusted": true
      },
      "outputs": [],
      "source": [
        "# Loading Spacy small model as nlp\n",
        "nlp = spacy.load(\"en_core_web_sm\")"
      ]
    },
    {
      "cell_type": "markdown",
      "metadata": {
        "id": "KOy0MLrhbzqr"
      },
      "source": [
        "## Gathering all the Stop words which does not convey much meaning in the Sentiment"
      ]
    },
    {
      "cell_type": "code",
      "execution_count": 49,
      "metadata": {
        "colab": {
          "base_uri": "https://localhost:8080/"
        },
        "id": "m90EIAg5cTQG",
        "outputId": "f4181c0e-fb67-43cc-cfc1-4bed59f5ea67",
        "trusted": true
      },
      "outputs": [
        {
          "name": "stdout",
          "output_type": "stream",
          "text": [
            "326\n"
          ]
        }
      ],
      "source": [
        "# Gathering all the stopwords\n",
        "from spacy.lang.en.stop_words import STOP_WORDS\n",
        "stopwords = list(STOP_WORDS)\n",
        "print(len(stopwords))"
      ]
    },
    {
      "cell_type": "code",
      "execution_count": 50,
      "metadata": {
        "colab": {
          "base_uri": "https://localhost:8080/",
          "height": 313
        },
        "id": "SmsVXflwcrrJ",
        "outputId": "b648618d-5e0f-4609-8ffe-332a4323016c",
        "trusted": true
      },
      "outputs": [
        {
          "data": {
            "text/html": [
              "<div>\n",
              "<style scoped>\n",
              "    .dataframe tbody tr th:only-of-type {\n",
              "        vertical-align: middle;\n",
              "    }\n",
              "\n",
              "    .dataframe tbody tr th {\n",
              "        vertical-align: top;\n",
              "    }\n",
              "\n",
              "    .dataframe thead th {\n",
              "        text-align: right;\n",
              "    }\n",
              "</style>\n",
              "<table border=\"1\" class=\"dataframe\">\n",
              "  <thead>\n",
              "    <tr style=\"text-align: right;\">\n",
              "      <th></th>\n",
              "      <th>0</th>\n",
              "      <th>1</th>\n",
              "    </tr>\n",
              "  </thead>\n",
              "  <tbody>\n",
              "    <tr>\n",
              "      <th>0</th>\n",
              "      <td>I grew up (b. 1965) watching and loving the Th...</td>\n",
              "      <td>0</td>\n",
              "    </tr>\n",
              "    <tr>\n",
              "      <th>1</th>\n",
              "      <td>When I put this movie in my DVD player, and sa...</td>\n",
              "      <td>0</td>\n",
              "    </tr>\n",
              "    <tr>\n",
              "      <th>2</th>\n",
              "      <td>Why do people who do not know what a particula...</td>\n",
              "      <td>0</td>\n",
              "    </tr>\n",
              "    <tr>\n",
              "      <th>3</th>\n",
              "      <td>Even though I have great interest in Biblical ...</td>\n",
              "      <td>0</td>\n",
              "    </tr>\n",
              "    <tr>\n",
              "      <th>4</th>\n",
              "      <td>Im a die hard Dads Army fan and nothing will e...</td>\n",
              "      <td>1</td>\n",
              "    </tr>\n",
              "  </tbody>\n",
              "</table>\n",
              "</div>"
            ],
            "text/plain": [
              "                                                   0  1\n",
              "0  I grew up (b. 1965) watching and loving the Th...  0\n",
              "1  When I put this movie in my DVD player, and sa...  0\n",
              "2  Why do people who do not know what a particula...  0\n",
              "3  Even though I have great interest in Biblical ...  0\n",
              "4  Im a die hard Dads Army fan and nothing will e...  1"
            ]
          },
          "execution_count": 50,
          "metadata": {},
          "output_type": "execute_result"
        }
      ],
      "source": [
        "# Loading train dataset\n",
        "data_train = pd.read_csv(\"train.csv\",header = None, sep=\",\", on_bad_lines='skip')\n",
        "data_train=data_train.iloc[:, 0:2] \n",
        "data_train.head()"
      ]
    },
    {
      "cell_type": "code",
      "execution_count": 51,
      "metadata": {
        "colab": {
          "base_uri": "https://localhost:8080/",
          "height": 206
        },
        "id": "EY9NeiFAdD0v",
        "outputId": "30b92319-f4cb-4cf6-eb70-ded702fea08c",
        "trusted": true
      },
      "outputs": [
        {
          "data": {
            "text/html": [
              "<div>\n",
              "<style scoped>\n",
              "    .dataframe tbody tr th:only-of-type {\n",
              "        vertical-align: middle;\n",
              "    }\n",
              "\n",
              "    .dataframe tbody tr th {\n",
              "        vertical-align: top;\n",
              "    }\n",
              "\n",
              "    .dataframe thead th {\n",
              "        text-align: right;\n",
              "    }\n",
              "</style>\n",
              "<table border=\"1\" class=\"dataframe\">\n",
              "  <thead>\n",
              "    <tr style=\"text-align: right;\">\n",
              "      <th></th>\n",
              "      <th>Review</th>\n",
              "      <th>Sentiment</th>\n",
              "    </tr>\n",
              "  </thead>\n",
              "  <tbody>\n",
              "    <tr>\n",
              "      <th>0</th>\n",
              "      <td>I grew up (b. 1965) watching and loving the Th...</td>\n",
              "      <td>0</td>\n",
              "    </tr>\n",
              "    <tr>\n",
              "      <th>1</th>\n",
              "      <td>When I put this movie in my DVD player, and sa...</td>\n",
              "      <td>0</td>\n",
              "    </tr>\n",
              "    <tr>\n",
              "      <th>2</th>\n",
              "      <td>Why do people who do not know what a particula...</td>\n",
              "      <td>0</td>\n",
              "    </tr>\n",
              "    <tr>\n",
              "      <th>3</th>\n",
              "      <td>Even though I have great interest in Biblical ...</td>\n",
              "      <td>0</td>\n",
              "    </tr>\n",
              "    <tr>\n",
              "      <th>4</th>\n",
              "      <td>Im a die hard Dads Army fan and nothing will e...</td>\n",
              "      <td>1</td>\n",
              "    </tr>\n",
              "  </tbody>\n",
              "</table>\n",
              "</div>"
            ],
            "text/plain": [
              "                                              Review  Sentiment\n",
              "0  I grew up (b. 1965) watching and loving the Th...          0\n",
              "1  When I put this movie in my DVD player, and sa...          0\n",
              "2  Why do people who do not know what a particula...          0\n",
              "3  Even though I have great interest in Biblical ...          0\n",
              "4  Im a die hard Dads Army fan and nothing will e...          1"
            ]
          },
          "execution_count": 51,
          "metadata": {},
          "output_type": "execute_result"
        }
      ],
      "source": [
        "# Adding column names to the dataframe\n",
        "columnName = ['Review','Sentiment']\n",
        "data_train.columns = columnName\n",
        "data_train.head()"
      ]
    },
    {
      "cell_type": "markdown",
      "metadata": {
        "id": "hqS-EOC6bzqt"
      },
      "source": [
        "## So here we can deduce that Sentiment 1 is Positive and 0 is negative"
      ]
    },
    {
      "cell_type": "code",
      "execution_count": 52,
      "metadata": {
        "colab": {
          "base_uri": "https://localhost:8080/"
        },
        "id": "aUdmn-6AeckX",
        "outputId": "212bc0c2-7192-4878-c309-ecc9f2034d02",
        "trusted": true
      },
      "outputs": [
        {
          "name": "stdout",
          "output_type": "stream",
          "text": [
            "(40000, 2)\n"
          ]
        }
      ],
      "source": [
        "print(data_train.shape)"
      ]
    },
    {
      "cell_type": "code",
      "execution_count": 53,
      "metadata": {
        "colab": {
          "base_uri": "https://localhost:8080/",
          "height": 206
        },
        "id": "qQueov_XdL7b",
        "outputId": "b093b776-4878-491b-f87e-3fae09a16be1",
        "trusted": true
      },
      "outputs": [
        {
          "data": {
            "text/html": [
              "<div>\n",
              "<style scoped>\n",
              "    .dataframe tbody tr th:only-of-type {\n",
              "        vertical-align: middle;\n",
              "    }\n",
              "\n",
              "    .dataframe tbody tr th {\n",
              "        vertical-align: top;\n",
              "    }\n",
              "\n",
              "    .dataframe thead th {\n",
              "        text-align: right;\n",
              "    }\n",
              "</style>\n",
              "<table border=\"1\" class=\"dataframe\">\n",
              "  <thead>\n",
              "    <tr style=\"text-align: right;\">\n",
              "      <th></th>\n",
              "      <th>Review</th>\n",
              "      <th>Sentiment</th>\n",
              "    </tr>\n",
              "  </thead>\n",
              "  <tbody>\n",
              "    <tr>\n",
              "      <th>0</th>\n",
              "      <td>I always wrote this series off as being a comp...</td>\n",
              "      <td>0</td>\n",
              "    </tr>\n",
              "    <tr>\n",
              "      <th>1</th>\n",
              "      <td>1st watched 12/7/2002 - 3 out of 10(Dir-Steve ...</td>\n",
              "      <td>0</td>\n",
              "    </tr>\n",
              "    <tr>\n",
              "      <th>2</th>\n",
              "      <td>This movie was so poorly written and directed ...</td>\n",
              "      <td>0</td>\n",
              "    </tr>\n",
              "    <tr>\n",
              "      <th>3</th>\n",
              "      <td>The most interesting thing about Miryang (Secr...</td>\n",
              "      <td>1</td>\n",
              "    </tr>\n",
              "    <tr>\n",
              "      <th>4</th>\n",
              "      <td>when i first read about \"berlin am meer\" i did...</td>\n",
              "      <td>0</td>\n",
              "    </tr>\n",
              "  </tbody>\n",
              "</table>\n",
              "</div>"
            ],
            "text/plain": [
              "                                              Review  Sentiment\n",
              "0  I always wrote this series off as being a comp...          0\n",
              "1  1st watched 12/7/2002 - 3 out of 10(Dir-Steve ...          0\n",
              "2  This movie was so poorly written and directed ...          0\n",
              "3  The most interesting thing about Miryang (Secr...          1\n",
              "4  when i first read about \"berlin am meer\" i did...          0"
            ]
          },
          "execution_count": 53,
          "metadata": {},
          "output_type": "execute_result"
        }
      ],
      "source": [
        "# Adding test dataset and adding its column name\n",
        "data_test = pd.read_csv(\"test.csv\", sep=',', header= None)\n",
        "data_test.columns = columnName\n",
        "data_test.head()"
      ]
    },
    {
      "cell_type": "code",
      "execution_count": 54,
      "metadata": {
        "colab": {
          "base_uri": "https://localhost:8080/"
        },
        "id": "1nz_dIL6efAL",
        "outputId": "8af664e1-f30b-4d35-8bc8-d3cb0874188e",
        "trusted": true
      },
      "outputs": [
        {
          "name": "stdout",
          "output_type": "stream",
          "text": [
            "(5000, 2)\n"
          ]
        }
      ],
      "source": [
        "print(data_test.shape)"
      ]
    },
    {
      "cell_type": "code",
      "execution_count": 55,
      "metadata": {
        "colab": {
          "base_uri": "https://localhost:8080/",
          "height": 206
        },
        "id": "RlmibXduefiM",
        "outputId": "aea84346-1ec7-41f5-967c-8c432e6cf460",
        "trusted": true
      },
      "outputs": [
        {
          "data": {
            "text/html": [
              "<div>\n",
              "<style scoped>\n",
              "    .dataframe tbody tr th:only-of-type {\n",
              "        vertical-align: middle;\n",
              "    }\n",
              "\n",
              "    .dataframe tbody tr th {\n",
              "        vertical-align: top;\n",
              "    }\n",
              "\n",
              "    .dataframe thead th {\n",
              "        text-align: right;\n",
              "    }\n",
              "</style>\n",
              "<table border=\"1\" class=\"dataframe\">\n",
              "  <thead>\n",
              "    <tr style=\"text-align: right;\">\n",
              "      <th></th>\n",
              "      <th>Review</th>\n",
              "      <th>Sentiment</th>\n",
              "    </tr>\n",
              "  </thead>\n",
              "  <tbody>\n",
              "    <tr>\n",
              "      <th>0</th>\n",
              "      <td>It's been about 14 years since Sharon Stone aw...</td>\n",
              "      <td>0</td>\n",
              "    </tr>\n",
              "    <tr>\n",
              "      <th>1</th>\n",
              "      <td>someone needed to make a car payment... this i...</td>\n",
              "      <td>0</td>\n",
              "    </tr>\n",
              "    <tr>\n",
              "      <th>2</th>\n",
              "      <td>The Guidelines state that a comment must conta...</td>\n",
              "      <td>0</td>\n",
              "    </tr>\n",
              "    <tr>\n",
              "      <th>3</th>\n",
              "      <td>This movie is a muddled mish-mash of clichés f...</td>\n",
              "      <td>0</td>\n",
              "    </tr>\n",
              "    <tr>\n",
              "      <th>4</th>\n",
              "      <td>Before Stan Laurel became the smaller half of ...</td>\n",
              "      <td>0</td>\n",
              "    </tr>\n",
              "  </tbody>\n",
              "</table>\n",
              "</div>"
            ],
            "text/plain": [
              "                                              Review  Sentiment\n",
              "0  It's been about 14 years since Sharon Stone aw...          0\n",
              "1  someone needed to make a car payment... this i...          0\n",
              "2  The Guidelines state that a comment must conta...          0\n",
              "3  This movie is a muddled mish-mash of clichés f...          0\n",
              "4  Before Stan Laurel became the smaller half of ...          0"
            ]
          },
          "execution_count": 55,
          "metadata": {},
          "output_type": "execute_result"
        }
      ],
      "source": [
        "# Adding valid dataset and adding its column name\n",
        "data_valid = pd.read_csv(\"valid.csv\",sep=',', header= None)\n",
        "data_valid.columns = columnName\n",
        "data_valid.head()"
      ]
    },
    {
      "cell_type": "code",
      "execution_count": 56,
      "metadata": {
        "colab": {
          "base_uri": "https://localhost:8080/"
        },
        "id": "W-KvuCuHeuUg",
        "outputId": "8e28c296-a3e9-43bc-edff-bbe917a7db33",
        "trusted": true
      },
      "outputs": [
        {
          "name": "stdout",
          "output_type": "stream",
          "text": [
            "(5000, 2)\n"
          ]
        }
      ],
      "source": [
        "print(data_valid.shape)"
      ]
    },
    {
      "cell_type": "markdown",
      "metadata": {
        "id": "9TNe2aVkbzqv"
      },
      "source": [
        "## Appending all the Datasets"
      ]
    },
    {
      "cell_type": "code",
      "execution_count": 57,
      "metadata": {
        "colab": {
          "base_uri": "https://localhost:8080/"
        },
        "id": "e_XOzJ3Key4E",
        "outputId": "fc7576d1-b0c2-4f96-bc60-12b7db45505a",
        "trusted": true
      },
      "outputs": [
        {
          "name": "stdout",
          "output_type": "stream",
          "text": [
            "(50000, 2)\n"
          ]
        },
        {
          "name": "stderr",
          "output_type": "stream",
          "text": [
            "C:\\Users\\asus\\AppData\\Local\\Temp\\ipykernel_6016\\2299921757.py:2: FutureWarning: The frame.append method is deprecated and will be removed from pandas in a future version. Use pandas.concat instead.\n",
            "  data = data_train.append([data_test, data_valid], ignore_index=True)\n"
          ]
        },
        {
          "data": {
            "text/html": [
              "<div>\n",
              "<style scoped>\n",
              "    .dataframe tbody tr th:only-of-type {\n",
              "        vertical-align: middle;\n",
              "    }\n",
              "\n",
              "    .dataframe tbody tr th {\n",
              "        vertical-align: top;\n",
              "    }\n",
              "\n",
              "    .dataframe thead th {\n",
              "        text-align: right;\n",
              "    }\n",
              "</style>\n",
              "<table border=\"1\" class=\"dataframe\">\n",
              "  <thead>\n",
              "    <tr style=\"text-align: right;\">\n",
              "      <th></th>\n",
              "      <th>Review</th>\n",
              "      <th>Sentiment</th>\n",
              "    </tr>\n",
              "  </thead>\n",
              "  <tbody>\n",
              "    <tr>\n",
              "      <th>0</th>\n",
              "      <td>I grew up (b. 1965) watching and loving the Th...</td>\n",
              "      <td>0</td>\n",
              "    </tr>\n",
              "    <tr>\n",
              "      <th>1</th>\n",
              "      <td>When I put this movie in my DVD player, and sa...</td>\n",
              "      <td>0</td>\n",
              "    </tr>\n",
              "    <tr>\n",
              "      <th>2</th>\n",
              "      <td>Why do people who do not know what a particula...</td>\n",
              "      <td>0</td>\n",
              "    </tr>\n",
              "    <tr>\n",
              "      <th>3</th>\n",
              "      <td>Even though I have great interest in Biblical ...</td>\n",
              "      <td>0</td>\n",
              "    </tr>\n",
              "    <tr>\n",
              "      <th>4</th>\n",
              "      <td>Im a die hard Dads Army fan and nothing will e...</td>\n",
              "      <td>1</td>\n",
              "    </tr>\n",
              "    <tr>\n",
              "      <th>...</th>\n",
              "      <td>...</td>\n",
              "      <td>...</td>\n",
              "    </tr>\n",
              "    <tr>\n",
              "      <th>49995</th>\n",
              "      <td>Man, I loved this movie! This really takes me ...</td>\n",
              "      <td>1</td>\n",
              "    </tr>\n",
              "    <tr>\n",
              "      <th>49996</th>\n",
              "      <td>Recovery is an incredibly moving piece of work...</td>\n",
              "      <td>1</td>\n",
              "    </tr>\n",
              "    <tr>\n",
              "      <th>49997</th>\n",
              "      <td>You can take the crook out of the joint, but i...</td>\n",
              "      <td>1</td>\n",
              "    </tr>\n",
              "    <tr>\n",
              "      <th>49998</th>\n",
              "      <td>FUTZ is the only show preserved from the exper...</td>\n",
              "      <td>1</td>\n",
              "    </tr>\n",
              "    <tr>\n",
              "      <th>49999</th>\n",
              "      <td>\"The Mother\" tells of a recently widowed mid-6...</td>\n",
              "      <td>1</td>\n",
              "    </tr>\n",
              "  </tbody>\n",
              "</table>\n",
              "<p>50000 rows × 2 columns</p>\n",
              "</div>"
            ],
            "text/plain": [
              "                                                  Review  Sentiment\n",
              "0      I grew up (b. 1965) watching and loving the Th...          0\n",
              "1      When I put this movie in my DVD player, and sa...          0\n",
              "2      Why do people who do not know what a particula...          0\n",
              "3      Even though I have great interest in Biblical ...          0\n",
              "4      Im a die hard Dads Army fan and nothing will e...          1\n",
              "...                                                  ...        ...\n",
              "49995  Man, I loved this movie! This really takes me ...          1\n",
              "49996  Recovery is an incredibly moving piece of work...          1\n",
              "49997  You can take the crook out of the joint, but i...          1\n",
              "49998  FUTZ is the only show preserved from the exper...          1\n",
              "49999  \"The Mother\" tells of a recently widowed mid-6...          1\n",
              "\n",
              "[50000 rows x 2 columns]"
            ]
          },
          "execution_count": 57,
          "metadata": {},
          "output_type": "execute_result"
        }
      ],
      "source": [
        "# Merging all the three dataframes\n",
        "data = data_train.append([data_test, data_valid], ignore_index=True)\n",
        "print(data.shape)\n",
        "data"
      ]
    },
    {
      "cell_type": "code",
      "execution_count": 58,
      "metadata": {
        "colab": {
          "base_uri": "https://localhost:8080/"
        },
        "id": "JHl1q35JfCmQ",
        "outputId": "10560e7d-df8f-4e99-8370-5b82f38f14c0",
        "trusted": true
      },
      "outputs": [
        {
          "data": {
            "text/plain": [
              "0    25000\n",
              "1    25000\n",
              "Name: Sentiment, dtype: int64"
            ]
          },
          "execution_count": 58,
          "metadata": {},
          "output_type": "execute_result"
        }
      ],
      "source": [
        "# Sentiment ditribution in the dataset\n",
        "data.Sentiment.value_counts()"
      ]
    },
    {
      "cell_type": "code",
      "execution_count": 59,
      "metadata": {
        "colab": {
          "base_uri": "https://localhost:8080/"
        },
        "id": "n9L8Vq3jfHrl",
        "outputId": "cf3116fe-2e37-4cae-d362-c0921577ee47",
        "trusted": true
      },
      "outputs": [
        {
          "data": {
            "text/plain": [
              "Review       0\n",
              "Sentiment    0\n",
              "dtype: int64"
            ]
          },
          "execution_count": 59,
          "metadata": {},
          "output_type": "execute_result"
        }
      ],
      "source": [
        "# Getting information regarding the null entries in the dataset\n",
        "data.isnull().sum()"
      ]
    },
    {
      "cell_type": "code",
      "execution_count": 60,
      "metadata": {
        "colab": {
          "base_uri": "https://localhost:8080/"
        },
        "id": "WH5Ca5fvfN1J",
        "outputId": "12e6f31a-d007-4ad4-f3f7-171c3b20e5fc",
        "trusted": true
      },
      "outputs": [
        {
          "name": "stdout",
          "output_type": "stream",
          "text": [
            "!\"#$%&'()*+,-./:;<=>?@[\\]^_`{|}~\n"
          ]
        }
      ],
      "source": [
        "punct = string.punctuation\n",
        "print(punct)"
      ]
    },
    {
      "cell_type": "code",
      "execution_count": 61,
      "metadata": {
        "id": "HKxbf5WBfhwg",
        "trusted": true
      },
      "outputs": [],
      "source": [
        "def dataCleaning(sentence):\n",
        "  doc = nlp(sentence)\n",
        "  tokens = []\n",
        "  for token in doc:\n",
        "    if token.lemma_ != '-PRON-':\n",
        "      temp = token.lemma_.lower().strip()\n",
        "    else:\n",
        "      temp = token.lower_\n",
        "    tokens.append(temp)\n",
        "  clean_tokens = []\n",
        "  for token in tokens:\n",
        "    if token not in punct and token not in stopwords:\n",
        "      clean_tokens.append(token)\n",
        "  return clean_tokens"
      ]
    },
    {
      "cell_type": "markdown",
      "metadata": {
        "id": "P8w-Rnycbzqx"
      },
      "source": [
        "## Here after passing a particular sentence in dataCleaning method we are returned with relevant words which contribute to the sentiments"
      ]
    },
    {
      "cell_type": "code",
      "execution_count": 66,
      "metadata": {
        "colab": {
          "base_uri": "https://localhost:8080/"
        },
        "id": "eTxGmm0_ktFt",
        "outputId": "4574e1be-4575-42fd-b729-21da32e32748",
        "trusted": true
      },
      "outputs": [
        {
          "name": "stdout",
          "output_type": "stream",
          "text": [
            "(40000,) (10000,)\n"
          ]
        }
      ],
      "source": [
        "# Spillting the train and test data\n",
        "X = data['Review']\n",
        "y = data['Sentiment']\n",
        "# print(X)\n",
        "X_train, X_test, y_train, y_test = train_test_split(X, y, test_size = 0.2)\n",
        "print(X_train.shape,y_test.shape)\n",
        "# clm = ['Review']\n",
        "# X_train.columns = clm\n",
        "# X_train.head()"
      ]
    },
    {
      "cell_type": "markdown",
      "metadata": {
        "id": "nGFxe5n9bzqy"
      },
      "source": [
        "## Preparing Model"
      ]
    },
    {
      "cell_type": "code",
      "execution_count": 18,
      "metadata": {
        "id": "xKwAQK5qktD0",
        "trusted": true
      },
      "outputs": [],
      "source": [
        "# Creating the model and pipeline\n",
        "tfidf = TfidfVectorizer(tokenizer = dataCleaning)\n",
        "svm = LinearSVC()\n",
        "steps = [('tfidf',tfidf),('svm',svm)]\n",
        "pipe = Pipeline(steps)"
      ]
    },
    {
      "cell_type": "code",
      "execution_count": 19,
      "metadata": {
        "colab": {
          "base_uri": "https://localhost:8080/",
          "height": 328
        },
        "id": "ZlaTICpJktC1",
        "outputId": "7a7be728-f8d2-4725-a888-88a7b321e813",
        "trusted": true
      },
      "outputs": [],
      "source": [
        "# Training the model\n",
        "out=pipe.fit(X_train,y_train)"
      ]
    },
    {
      "cell_type": "code",
      "execution_count": 20,
      "metadata": {
        "id": "IavuQuDJktAH",
        "trusted": true
      },
      "outputs": [],
      "source": [
        "# Testing on the test dataset\n",
        "y_pred = out.predict(X_test)"
      ]
    },
    {
      "cell_type": "code",
      "execution_count": 21,
      "metadata": {
        "colab": {
          "base_uri": "https://localhost:8080/"
        },
        "id": "2mPpPGkDmCzX",
        "outputId": "228f09b7-81ea-4f72-86d1-b254b67fc808",
        "trusted": true
      },
      "outputs": [
        {
          "name": "stdout",
          "output_type": "stream",
          "text": [
            "              precision    recall  f1-score   support\n",
            "\n",
            "           0       0.90      0.88      0.89      4976\n",
            "           1       0.88      0.90      0.89      5024\n",
            "\n",
            "    accuracy                           0.89     10000\n",
            "   macro avg       0.89      0.89      0.89     10000\n",
            "weighted avg       0.89      0.89      0.89     10000\n",
            "\n",
            "\n",
            "\n",
            "\n",
            "[[4378  598]\n",
            " [ 478 4546]]\n"
          ]
        }
      ],
      "source": [
        "# Printing the classification report and the confusion matrix\n",
        "print(classification_report(y_test,y_pred))\n",
        "print(\"\\n\\n\")\n",
        "print(confusion_matrix(y_test,y_pred))"
      ]
    },
    {
      "cell_type": "markdown",
      "metadata": {
        "id": "L-2_EL-5bzqz"
      },
      "source": [
        "## Testing on the Random Manual Examples"
      ]
    },
    {
      "cell_type": "markdown",
      "metadata": {
        "id": "ZPRh5XBPbzqz"
      },
      "source": [
        "**Here '1' represent that the input is positive sentiment**"
      ]
    },
    {
      "cell_type": "code",
      "execution_count": 22,
      "metadata": {
        "colab": {
          "base_uri": "https://localhost:8080/"
        },
        "id": "TOcACsrQks9x",
        "outputId": "7312b74e-d6b5-4366-8bb2-72f3b0282adf",
        "trusted": true
      },
      "outputs": [
        {
          "data": {
            "text/plain": [
              "array([1], dtype=int64)"
            ]
          },
          "execution_count": 22,
          "metadata": {},
          "output_type": "execute_result"
        }
      ],
      "source": [
        "# Testing on random inputs\n",
        "pipe.predict([\"very nice but not upto the mark\"])"
      ]
    },
    {
      "cell_type": "markdown",
      "metadata": {
        "id": "GiEhAVM6bzq0"
      },
      "source": [
        "**Here '0' represent that input is negative sentiment**"
      ]
    },
    {
      "cell_type": "code",
      "execution_count": 23,
      "metadata": {
        "colab": {
          "base_uri": "https://localhost:8080/"
        },
        "id": "Pfo44Ij9m2OY",
        "outputId": "b6612d83-e47c-4951-b76f-2865adff68c5",
        "trusted": true
      },
      "outputs": [
        {
          "data": {
            "text/plain": [
              "array([0], dtype=int64)"
            ]
          },
          "execution_count": 23,
          "metadata": {},
          "output_type": "execute_result"
        }
      ],
      "source": [
        "pipe.predict([\"event\"])"
      ]
    },
    {
      "cell_type": "code",
      "execution_count": 25,
      "metadata": {},
      "outputs": [
        {
          "name": "stdout",
          "output_type": "stream",
          "text": [
            "Model dumped!\n"
          ]
        }
      ],
      "source": [
        "# Saving our model\n",
        "import joblib\n",
        "joblib.dump(out, 'model.pkl')\n",
        "print(\"Model dumped!\")"
      ]
    },
    {
      "cell_type": "code",
      "execution_count": 26,
      "metadata": {},
      "outputs": [],
      "source": [
        "# Load the model that we just saved\n",
        "mp = joblib.load('model.pkl')"
      ]
    },
    {
      "cell_type": "code",
      "execution_count": 29,
      "metadata": {},
      "outputs": [
        {
          "data": {
            "text/plain": [
              "array([0], dtype=int64)"
            ]
          },
          "execution_count": 29,
          "metadata": {},
          "output_type": "execute_result"
        }
      ],
      "source": [
        "mp.predict([\"this is bad\"])"
      ]
    },
    {
      "cell_type": "code",
      "execution_count": 43,
      "metadata": {},
      "outputs": [
        {
          "name": "stdout",
          "output_type": "stream",
          "text": [
            "Models columns dumped!\n"
          ]
        }
      ],
      "source": [
        "model_columns= list(X_train)\n",
        "joblib.dump(model_columns, 'model_columns.pkl')\n",
        "print(\"Models columns dumped!\")"
      ]
    }
  ],
  "metadata": {
    "colab": {
      "provenance": []
    },
    "kernelspec": {
      "display_name": "Python 3.9.2 64-bit",
      "language": "python",
      "name": "python3"
    },
    "language_info": {
      "codemirror_mode": {
        "name": "ipython",
        "version": 3
      },
      "file_extension": ".py",
      "mimetype": "text/x-python",
      "name": "python",
      "nbconvert_exporter": "python",
      "pygments_lexer": "ipython3",
      "version": "3.9.2"
    },
    "vscode": {
      "interpreter": {
        "hash": "b667cebad148e7b094a58ee81f940c685de1dd70a003a9ccdca4a5792431bee5"
      }
    }
  },
  "nbformat": 4,
  "nbformat_minor": 0
}
